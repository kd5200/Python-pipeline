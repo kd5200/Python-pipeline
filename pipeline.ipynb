{
 "cells": [
  {
   "cell_type": "code",
   "execution_count": 7,
   "metadata": {},
   "outputs": [
    {
     "name": "stdout",
     "output_type": "stream",
     "text": [
      "Column1: 9552445\n",
      "Column2: 9108800\n",
      "Column1: 10284656\n",
      "Column2: 9726157\n",
      "Column1: 11155383\n",
      "Column2: 10666109\n",
      "Column1: 11171156\n",
      "Column2: 10652932\n",
      "Column1: 10925030\n",
      "Column2: 10457613\n",
      "Column1: 11211933\n",
      "Column2: 10888520\n",
      "Column1: 11595901\n",
      "Column2: 11382784\n",
      "Column1: 11321797\n",
      "Column2: 11049601\n",
      "Column1: 10702211\n",
      "Column2: 10659952\n",
      "Column1: 9867371\n",
      "Column2: 9914954\n",
      "Column1: 10418635\n",
      "Column2: 10472757\n",
      "Column1: 10438687\n",
      "Column2: 10702465\n",
      "Column1: 10513756\n",
      "Column2: 11160126\n",
      "Column1: 8699905\n",
      "Column2: 9651880\n",
      "Column1: 7204611\n",
      "Column2: 8221808\n",
      "Column1: 4420293\n",
      "Column2: 5452475\n",
      "Column1: 2695951\n",
      "Column2: 3582418\n",
      "Column1: 2170882\n",
      "Column2: 3791691\n"
     ]
    }
   ],
   "source": [
    "import pandas as pd\n",
    "import psycopg2\n",
    "from psycopg2 import Error\n",
    "\n",
    "try:\n",
    "    connection = psycopg2.connect(user=\"postgres\",\n",
    "                                  password=\"KfauD202023$$\",\n",
    "                                  host=\"localhost\",\n",
    "                                  port=\"5432\",\n",
    "                                  database=\"postgres\")\n",
    "\n",
    "    cursor = connection.cursor()\n",
    "\n",
    "except (Exception, Error) as error:\n",
    "    print(\"Error while connecting to PostgreSQL database:\", error)\n",
    "\n",
    "\n",
    "    # Close the database connection outside the try-except block.\n",
    "def close_db(): \n",
    "    if connection:\n",
    "        cursor.close()\n",
    "        connection.close()\n",
    "    print(\"PostgreSQL connection is closed\")\n",
    "\n",
    "\n",
    "cursor.execute(\"SELECT * FROM Population_data\")\n",
    "records = cursor.fetchall()\n",
    "\n",
    "# Process the fetched data\n",
    "for row in records:\n",
    "    print(\"Column1:\", row[0])\n",
    "    print(\"Column2:\", row[1])"
   ]
  }
 ],
 "metadata": {
  "kernelspec": {
   "display_name": "myenv2",
   "language": "python",
   "name": "python3"
  },
  "language_info": {
   "codemirror_mode": {
    "name": "ipython",
    "version": 3
   },
   "file_extension": ".py",
   "mimetype": "text/x-python",
   "name": "python",
   "nbconvert_exporter": "python",
   "pygments_lexer": "ipython3",
   "version": "3.11.3"
  },
  "orig_nbformat": 4
 },
 "nbformat": 4,
 "nbformat_minor": 2
}
